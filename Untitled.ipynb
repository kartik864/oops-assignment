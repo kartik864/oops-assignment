{
 "cells": [
  {
   "cell_type": "code",
   "execution_count": 1,
   "id": "3d8a187f-c5de-416c-b7aa-fa023cc4c2b8",
   "metadata": {},
   "outputs": [],
   "source": [
    "#1\n",
    "#Functions are important because they:\n",
    "\n",
    "#Reuse Code: Write once, use many times.\n",
    "#Organize Code: Break programs into manageable parts.\n",
    "#Improve Readability: Make code easier to understand.\n",
    "#Avoid Repetition: Prevent duplicate code.\n",
    "#Simplify Complexity: Hide complex logic behind simple calls.\n",
    "#Ease Debugging: Make testing and fixing issues easier."
   ]
  },
  {
   "cell_type": "code",
   "execution_count": 3,
   "id": "7b6e73a6-9849-4fe5-b879-f2fb89b190e5",
   "metadata": {},
   "outputs": [
    {
     "name": "stdout",
     "output_type": "stream",
     "text": [
      "Hello, kartik! Welcome to the class.\n"
     ]
    }
   ],
   "source": [
    "#2\n",
    "def greet_student(name):\n",
    "    print(f\"Hello, {name}! Welcome to the class.\")\n",
    "\n",
    "greet_student(\"kartik\")"
   ]
  },
  {
   "cell_type": "code",
   "execution_count": 4,
   "id": "0247010d-282b-4bcc-8db7-cd679ea86cf0",
   "metadata": {},
   "outputs": [],
   "source": [
    "#3\n",
    "# print: Displays output on the screen. Used for showing information or debugging.\n",
    "# return: Sends a value back from a function to where it was called. Used to pass results for further use.\n",
    "# Example:\n",
    "\n",
    "# print: Shows the result, but doesn’t save it.\n",
    "# return: Gives the result to be used later in the program."
   ]
  },
  {
   "cell_type": "code",
   "execution_count": 5,
   "id": "5cddb8e0-cbe0-4d71-bd4d-08ee3a0ffa19",
   "metadata": {},
   "outputs": [],
   "source": [
    "#4\n",
    "# *args: Lets you pass a variable number of positional arguments to a function, stored as a tuple.\n",
    "\n",
    "# **kwargs: Lets you pass a variable number of keyword arguments to a function, stored as a dictionary.\n",
    "\n",
    "# Example:\n",
    "\n",
    "# *args: Useful when you don't know how many arguments will be passed.\n",
    "# **kwargs: Useful when you want to pass a flexible number of named arguments."
   ]
  },
  {
   "cell_type": "code",
   "execution_count": 8,
   "id": "f84804cc-923e-4e41-986c-8cf2b98cd05f",
   "metadata": {},
   "outputs": [
    {
     "name": "stdout",
     "output_type": "stream",
     "text": [
      "1\n"
     ]
    }
   ],
   "source": [
    "#5\n",
    "#An iterator in Python lets you go through elements in a collection one by one.\n",
    "\n",
    "# iter(): Turns a collection into an iterator.\n",
    "# next(): Gets the next item from the iterator.\n",
    "#Example:\n",
    "\n",
    "\n",
    "my_list = [1, 2, 3]\n",
    "my_iterator = iter(my_list)\n",
    "\n",
    "print(next(my_iterator))  \n"
   ]
  },
  {
   "cell_type": "code",
   "execution_count": 10,
   "id": "6cf15256-2ded-40ff-81c5-f1127a409ba3",
   "metadata": {},
   "outputs": [
    {
     "name": "stdout",
     "output_type": "stream",
     "text": [
      "1\n",
      "4\n",
      "9\n",
      "16\n",
      "25\n"
     ]
    }
   ],
   "source": [
    "#6\n",
    "def square_generator(n):\n",
    "    for i in range(1, n + 1):\n",
    "        yield i * i\n",
    "\n",
    "# Example usage:\n",
    "n = 5\n",
    "for square in square_generator(n):\n",
    "    print(square)\n"
   ]
  },
  {
   "cell_type": "code",
   "execution_count": 11,
   "id": "b88cc5fb-b448-4d9b-94f3-fda3c50050ea",
   "metadata": {},
   "outputs": [
    {
     "name": "stdout",
     "output_type": "stream",
     "text": [
      "1\n",
      "2\n",
      "3\n",
      "4\n",
      "5\n",
      "6\n",
      "7\n",
      "8\n",
      "9\n",
      "11\n",
      "22\n",
      "33\n",
      "44\n",
      "55\n",
      "66\n",
      "77\n",
      "88\n",
      "99\n"
     ]
    }
   ],
   "source": [
    "#7\n",
    "def is_palindrome(num):\n",
    "    return str(num) == str(num)[::-1]\n",
    "\n",
    "def palindromic_generator(n):\n",
    "    for i in range(1, n + 1):\n",
    "        if is_palindrome(i):\n",
    "            yield i\n",
    "\n",
    "# Example usage:\n",
    "n = 100\n",
    "for palindromic in palindromic_generator(n):\n",
    "    print(palindromic)\n"
   ]
  },
  {
   "cell_type": "code",
   "execution_count": 12,
   "id": "31f76aa4-8a14-4304-9d93-626d1e8d7854",
   "metadata": {},
   "outputs": [
    {
     "name": "stdout",
     "output_type": "stream",
     "text": [
      "2\n",
      "4\n",
      "6\n",
      "8\n",
      "10\n"
     ]
    }
   ],
   "source": [
    "#8\n",
    "def even_number_generator(n):\n",
    "    for i in range(2, n + 1, 2):\n",
    "        yield i\n",
    "\n",
    "# Example usage:\n",
    "n = 10\n",
    "for even_number in even_number_generator(n):\n",
    "    print(even_number)\n"
   ]
  },
  {
   "cell_type": "code",
   "execution_count": 13,
   "id": "7a377720-6967-4b7a-91c9-54ac40e34e6a",
   "metadata": {},
   "outputs": [
    {
     "name": "stdout",
     "output_type": "stream",
     "text": [
      "1\n",
      "2\n",
      "4\n",
      "8\n",
      "16\n",
      "32\n",
      "64\n"
     ]
    }
   ],
   "source": [
    "#9\n",
    "def power_of_two_generator(n):\n",
    "    power = 1\n",
    "    while power <= n:\n",
    "        yield power\n",
    "        power *= 2\n",
    "\n",
    "# Example usage:\n",
    "n = 100\n",
    "for power in power_of_two_generator(n):\n",
    "    print(power)\n"
   ]
  },
  {
   "cell_type": "code",
   "execution_count": 14,
   "id": "e33122f3-7fd8-4bb8-a468-818468a770bb",
   "metadata": {},
   "outputs": [
    {
     "name": "stdout",
     "output_type": "stream",
     "text": [
      "2\n",
      "3\n",
      "5\n",
      "7\n",
      "11\n",
      "13\n",
      "17\n",
      "19\n",
      "23\n",
      "29\n"
     ]
    }
   ],
   "source": [
    "#10\n",
    "def is_prime(num):\n",
    "    if num <= 1:\n",
    "        return False\n",
    "    if num <= 3:\n",
    "        return True\n",
    "    if num % 2 == 0 or num % 3 == 0:\n",
    "        return False\n",
    "    i = 5\n",
    "    while i * i <= num:\n",
    "        if num % i == 0 or num % (i + 2) == 0:\n",
    "            return False\n",
    "        i += 6\n",
    "    return True\n",
    "\n",
    "def prime_generator(n):\n",
    "    for num in range(2, n + 1):\n",
    "        if is_prime(num):\n",
    "            yield num\n",
    "\n",
    "# Example usage:\n",
    "n = 30\n",
    "for prime in prime_generator(n):\n",
    "    print(prime)\n"
   ]
  },
  {
   "cell_type": "code",
   "execution_count": 15,
   "id": "25e70884-4c1a-4ca4-bed8-fa3f26632448",
   "metadata": {},
   "outputs": [
    {
     "name": "stdout",
     "output_type": "stream",
     "text": [
      "100\n"
     ]
    }
   ],
   "source": [
    "#20\n",
    "def sum_of_cubes(numbers):\n",
    "    return sum(x**3 for x in numbers)\n",
    "\n",
    "# Example usage:\n",
    "my_list = [1, 2, 3, 4]\n",
    "result = sum_of_cubes(my_list)\n",
    "print(result)\n"
   ]
  },
  {
   "cell_type": "code",
   "execution_count": 16,
   "id": "76788a95-b0ab-4cdb-9d50-44c2900102d2",
   "metadata": {},
   "outputs": [
    {
     "name": "stdout",
     "output_type": "stream",
     "text": [
      "[11, 17, 23]\n"
     ]
    }
   ],
   "source": [
    "#21\n",
    "def is_prime(num):\n",
    "    if num <= 1:\n",
    "        return False\n",
    "    if num <= 3:\n",
    "        return True\n",
    "    if num % 2 == 0 or num % 3 == 0:\n",
    "        return False\n",
    "    i = 5\n",
    "    while i * i <= num:\n",
    "        if num % i == 0 or num % (i + 2) == 0:\n",
    "            return False\n",
    "        i += 6\n",
    "    return True\n",
    "\n",
    "def filter_primes(numbers):\n",
    "    return [num for num in numbers if is_prime(num)]\n",
    "\n",
    "# Example usage:\n",
    "my_list = [10, 11, 15, 17, 20, 23]\n",
    "prime_numbers = filter_primes(my_list)\n",
    "print(prime_numbers)\n"
   ]
  },
  {
   "cell_type": "code",
   "execution_count": 17,
   "id": "0fcd427f-6caa-41b9-bb5e-b57e0f1065eb",
   "metadata": {},
   "outputs": [
    {
     "name": "stdout",
     "output_type": "stream",
     "text": [
      "12\n"
     ]
    }
   ],
   "source": [
    "#22\n",
    "# Lambda function to calculate the sum of two numbers\n",
    "sum_two_numbers = lambda a, b: a + b\n",
    "\n",
    "# Example usage\n",
    "result = sum_two_numbers(5, 7)\n",
    "print(result)\n"
   ]
  },
  {
   "cell_type": "code",
   "execution_count": 18,
   "id": "00453259-2fde-4ebc-8242-c37949f3b196",
   "metadata": {},
   "outputs": [
    {
     "name": "stdout",
     "output_type": "stream",
     "text": [
      "25\n"
     ]
    }
   ],
   "source": [
    "#23\n",
    "# Lambda function to calculate the square of a number\n",
    "square = lambda x: x ** 2\n",
    "\n",
    "# Example usage\n",
    "result = square(5)\n",
    "print(result)\n"
   ]
  },
  {
   "cell_type": "code",
   "execution_count": 19,
   "id": "4d52036e-0d5d-4a09-9042-8646c8c63861",
   "metadata": {},
   "outputs": [
    {
     "name": "stdout",
     "output_type": "stream",
     "text": [
      "7 is even: False\n",
      "7 is odd: True\n"
     ]
    }
   ],
   "source": [
    "#24\n",
    "# Lambda function to check if a number is even\n",
    "is_even = lambda x: x % 2 == 0\n",
    "\n",
    "# Lambda function to check if a number is odd\n",
    "is_odd = lambda x: x % 2 != 0\n",
    "\n",
    "# Example usage\n",
    "number = 7\n",
    "print(f\"{number} is even: {is_even(number)}\")\n",
    "print(f\"{number} is odd: {is_odd(number)}\")\n"
   ]
  },
  {
   "cell_type": "code",
   "execution_count": 20,
   "id": "234977d6-c471-441b-bb37-28fd82479e69",
   "metadata": {},
   "outputs": [
    {
     "name": "stdout",
     "output_type": "stream",
     "text": [
      "Hello, world!\n"
     ]
    }
   ],
   "source": [
    "#25\n",
    "# Lambda function to concatenate two strings\n",
    "concat_strings = lambda str1, str2: str1 + str2\n",
    "\n",
    "# Example usage\n",
    "result = concat_strings(\"Hello, \", \"world!\")\n",
    "print(result)\n"
   ]
  },
  {
   "cell_type": "code",
   "execution_count": 21,
   "id": "0559d164-1a47-4156-b1ad-e5765ca4ffac",
   "metadata": {},
   "outputs": [
    {
     "name": "stdout",
     "output_type": "stream",
     "text": [
      "25\n"
     ]
    }
   ],
   "source": [
    "#26\n",
    "# Lambda function to find the maximum of three numbers\n",
    "max_of_three = lambda a, b, c: max(a, b, c)\n",
    "\n",
    "# Example usage\n",
    "result = max_of_three(10, 25, 15)\n",
    "print(result)\n"
   ]
  },
  {
   "cell_type": "code",
   "execution_count": 22,
   "id": "a45ad052-eb80-4d60-a119-eefe8ccd0b67",
   "metadata": {},
   "outputs": [],
   "source": [
    "#27\n",
    "# Encapsulation in OOP means:\n",
    "\n",
    "# Bundling: Grouping data (attributes) and methods (functions) into a single class.\n",
    "# Access Control: Hiding the internal details of an object and only exposing what’s necessary through methods.\n",
    "# Data Protection: Ensuring data can only be modified in controlled ways."
   ]
  },
  {
   "cell_type": "code",
   "execution_count": 23,
   "id": "6dcd80e3-1f44-4292-ab6c-aab83acc56ef",
   "metadata": {},
   "outputs": [],
   "source": [
    "#28\n",
    "# Public: No prefix (attribute). Accessible from anywhere.\n",
    "# Protected: Single underscore prefix (_attribute). Intended for internal use within the class and its subclasses.\n",
    "# Private: Double underscore prefix (__attribute). Restricted to the class itself, with name mangling to prevent accidental access."
   ]
  },
  {
   "cell_type": "code",
   "execution_count": 24,
   "id": "536605cd-3a24-4006-a3be-c9714c118091",
   "metadata": {},
   "outputs": [
    {
     "name": "stdout",
     "output_type": "stream",
     "text": [
      "Animal speaks\n",
      "Dog barks\n"
     ]
    }
   ],
   "source": [
    "#29\n",
    "#Inheritance in OOP allows a class (child) to inherit attributes and methods from another class (parent). This promotes code reuse and creates a class hierarchy.\n",
    "class Animal:\n",
    "    def speak(self):\n",
    "        print(\"Animal speaks\")\n",
    "\n",
    "class Dog(Animal):  # Dog inherits from Animal\n",
    "    def bark(self):\n",
    "        print(\"Dog barks\")\n",
    "\n",
    "dog = Dog()\n",
    "dog.speak()  # Inherited method\n",
    "dog.bark()   # Method of Dog\n"
   ]
  },
  {
   "cell_type": "code",
   "execution_count": 25,
   "id": "ea069aa6-609e-4bd8-80ca-085dce3d727a",
   "metadata": {},
   "outputs": [
    {
     "name": "stdout",
     "output_type": "stream",
     "text": [
      "Dog barks\n",
      "Cat meows\n"
     ]
    }
   ],
   "source": [
    "#30\n",
    "#Polymorphism in OOP allows different classes to be treated as instances of the same class through a common interface. It enables methods to operate on objects of various types, providing flexibility.\n",
    "class Animal:\n",
    "    def speak(self):\n",
    "        print(\"Animal speaks\")\n",
    "\n",
    "class Dog(Animal):\n",
    "    def speak(self):\n",
    "        print(\"Dog barks\")\n",
    "\n",
    "class Cat(Animal):\n",
    "    def speak(self):\n",
    "        print(\"Cat meows\")\n",
    "\n",
    "for animal in [Dog(), Cat()]:\n",
    "    animal.speak()  # Calls the appropriate method based on the object type\n"
   ]
  },
  {
   "cell_type": "code",
   "execution_count": 26,
   "id": "a7eecc49-b307-42de-b294-0006ce3ac461",
   "metadata": {},
   "outputs": [
    {
     "name": "stdout",
     "output_type": "stream",
     "text": [
      "Dog barks\n"
     ]
    }
   ],
   "source": [
    "#31\n",
    "#Method overriding in Python occurs when a subclass provides a new implementation of a method that is already defined in its parent class. The subclass's method replaces the parent class's method when called on an instance of the subclass.\n",
    "\n",
    "class Animal:\n",
    "    def speak(self):\n",
    "        print(\"Animal speaks\")\n",
    "\n",
    "class Dog(Animal):\n",
    "    def speak(self):\n",
    "        print(\"Dog barks\")  # Overridden method\n",
    "\n",
    "dog = Dog()\n",
    "dog.speak()"
   ]
  },
  {
   "cell_type": "code",
   "execution_count": 27,
   "id": "fcc6b65f-d6cb-4d74-a927-7e804b38f40f",
   "metadata": {},
   "outputs": [
    {
     "name": "stdout",
     "output_type": "stream",
     "text": [
      "Generic animal sound\n",
      "Woof!\n"
     ]
    }
   ],
   "source": [
    "#32\n",
    "#a parent class Animal with a method make_sound, and a child class Dog that inherits from Animal and overrides the make_sound method:\n",
    "\n",
    "\n",
    "class Animal:\n",
    "    def make_sound(self):\n",
    "        print(\"Generic animal sound\")\n",
    "\n",
    "class Dog(Animal):\n",
    "    def make_sound(self):\n",
    "        print(\"Woof!\")  # Overridden method\n",
    "\n",
    "# Example usage:\n",
    "animal = Animal()\n",
    "dog = Dog()\n",
    "\n",
    "animal.make_sound()  \n",
    "dog.make_sound()     "
   ]
  },
  {
   "cell_type": "code",
   "execution_count": 28,
   "id": "7d071e2a-1633-4fee-9e38-b8dfc6f90030",
   "metadata": {},
   "outputs": [
    {
     "name": "stdout",
     "output_type": "stream",
     "text": [
      "Animal moves\n",
      "Dog runs\n"
     ]
    }
   ],
   "source": [
    "#33\n",
    "class Animal:\n",
    "    def move(self):\n",
    "        print(\"Animal moves\")\n",
    "\n",
    "class Dog(Animal):\n",
    "    def move(self):\n",
    "        print(\"Dog runs\")  # Overridden method\n",
    "\n",
    "# Example usage:\n",
    "animal = Animal()\n",
    "dog = Dog()\n",
    "\n",
    "animal.move()  \n",
    "dog.move()     \n"
   ]
  },
  {
   "cell_type": "code",
   "execution_count": 29,
   "id": "550baadd-c14d-4ecd-9455-a162c61c5097",
   "metadata": {},
   "outputs": [
    {
     "name": "stdout",
     "output_type": "stream",
     "text": [
      "Woof!\n",
      "Giving birth to live young.\n"
     ]
    }
   ],
   "source": [
    "#34\n",
    "class Mammal:\n",
    "    def reproduce(self):\n",
    "        print(\"Giving birth to live young.\")\n",
    "\n",
    "class Dog(Animal):\n",
    "    def make_sound(self):\n",
    "        print(\"Woof!\")  # Overridden method\n",
    "\n",
    "class DogMammal(Dog, Mammal):\n",
    "    pass\n",
    "\n",
    "# Example usage:\n",
    "dog_mammal = DogMammal()\n",
    "\n",
    "dog_mammal.make_sound()  \n",
    "dog_mammal.reproduce()  \n"
   ]
  },
  {
   "cell_type": "code",
   "execution_count": 31,
   "id": "79b5e229-5d0a-45b1-bb75-10ad32803d29",
   "metadata": {},
   "outputs": [
    {
     "name": "stdout",
     "output_type": "stream",
     "text": [
      "Bark!\n"
     ]
    }
   ],
   "source": [
    "class Dog:\n",
    "    def make_sound(self):\n",
    "        print(\"Woof!\")  # Base implementation\n",
    "\n",
    "class GermanShepherd(Dog):\n",
    "    def make_sound(self):\n",
    "        print(\"Bark!\")  # Overridden method\n",
    "\n",
    "# Example usage:\n",
    "german_shepherd = GermanShepherd()\n",
    "german_shepherd.make_sound()  \n"
   ]
  },
  {
   "cell_type": "code",
   "execution_count": 32,
   "id": "47edb5e7-aac3-4fa6-a10f-9fc337c24973",
   "metadata": {},
   "outputs": [
    {
     "name": "stdout",
     "output_type": "stream",
     "text": [
      "Starting car\n",
      "Starting bike\n",
      "Starting truck\n"
     ]
    }
   ],
   "source": [
    "#44\n",
    "class Vehicle:\n",
    "    def start(self):\n",
    "        print(\"Starting vehicle\")\n",
    "\n",
    "class Car(Vehicle):\n",
    "    def start(self):\n",
    "        print(\"Starting car\")\n",
    "\n",
    "class Bike(Vehicle):\n",
    "    def start(self):\n",
    "        print(\"Starting bike\")\n",
    "\n",
    "class Truck(Vehicle):\n",
    "    def start(self):\n",
    "        print(\"Starting truck\")\n",
    "\n",
    "# Example usage:\n",
    "vehicles = [Car(), Bike(), Truck()]\n",
    "\n",
    "for vehicle in vehicles:\n",
    "    vehicle.start()  # Calls the overridden method based on the object type\n"
   ]
  },
  {
   "cell_type": "code",
   "execution_count": 33,
   "id": "5f7a7861-81db-455b-84ec-9bd59a7d337c",
   "metadata": {},
   "outputs": [],
   "source": [
    "#45\n",
    "# Polymorphism improves code readability and reusability by:\n",
    "\n",
    "# 1. **Unified Interface**: Allows different classes to be used interchangeably through a common method.\n",
    "# 2. **Code Reuse**: Reduces the need for multiple methods, enhancing reuse.\n",
    "# 3. **Flexibility**: Makes code adaptable to different types without changes.\n",
    "# 4. **Simplified Code**: Eliminates complex type checks and conditional logic, making code cleaner."
   ]
  },
  {
   "cell_type": "code",
   "execution_count": 34,
   "id": "8decdb76-a015-43d7-b804-d9340bb0b026",
   "metadata": {},
   "outputs": [],
   "source": [
    "#46\n",
    "# Python supports polymorphism with duck typing by:\n",
    "\n",
    "# 1. **Duck Typing**: Objects are used based on their methods and properties, not their actual type.\n",
    "# 2. **No Formal Interface**: Objects with the required methods can be used interchangeably, regardless of their class."
   ]
  },
  {
   "cell_type": "code",
   "execution_count": 35,
   "id": "a079d64b-2a1b-4231-9a50-c7fa756072c2",
   "metadata": {},
   "outputs": [],
   "source": [
    "#47\n",
    "# Encapsulation in Python is achieved by:\n",
    "\n",
    "# 1. **Bundling**: Grouping data and methods into a class.\n",
    "# 2. **Access Modifiers**: Using prefixes to control access:\n",
    "#    - **Public**: No prefix\n",
    "#    - **Protected**: Single underscore (`_attribute`)\n",
    "#    - **Private**: Double underscore (`__attribute`)"
   ]
  },
  {
   "cell_type": "code",
   "execution_count": 36,
   "id": "e6080d30-3842-4595-bba9-1d995cc9ad75",
   "metadata": {},
   "outputs": [
    {
     "name": "stdout",
     "output_type": "stream",
     "text": [
      "10\n"
     ]
    }
   ],
   "source": [
    "#48\n",
    "#Yes, encapsulation can be bypassed in Python. Private attributes can be accessed directly using name mangling, which changes the attribute name to include the class name.\n",
    "class Example:\n",
    "    def __init__(self):\n",
    "        self.__value = 10\n",
    "\n",
    "example = Example()\n",
    "print(example._Example__value)"
   ]
  },
  {
   "cell_type": "code",
   "execution_count": 38,
   "id": "4f9197d1-d51f-4bf7-8d55-060202b30c63",
   "metadata": {},
   "outputs": [],
   "source": [
    "#49\n",
    "class BankAccount:\n",
    "    def __init__(self, initial_balance=0):\n",
    "        self.__balance = initial_balance\n",
    "\n",
    "    def deposit(self, amount):\n",
    "        if amount > 0:\n",
    "            self.__balance += amount\n",
    "\n",
    "    def withdraw(self, amount):\n",
    "        if 0 < amount <= self.__balance:\n",
    "            self.__balance -= amount\n",
    "\n",
    "    def check_balance(self):\n",
    "        return self.__balance\n"
   ]
  },
  {
   "cell_type": "code",
   "execution_count": 39,
   "id": "1c233e1e-51d4-4d0b-b482-4293cedb03de",
   "metadata": {},
   "outputs": [],
   "source": [
    "#50\n",
    "class Person:\n",
    "    def __init__(self, name, email):\n",
    "        self.__name = name\n",
    "        self.__email = email\n",
    "\n",
    "    def get_email(self):\n",
    "        return self.__email\n",
    "\n",
    "    def set_email(self, email):\n",
    "        self.__email = email\n"
   ]
  },
  {
   "cell_type": "code",
   "execution_count": 40,
   "id": "77e88b79-db06-4fb5-990a-f3d78fe8a6a4",
   "metadata": {},
   "outputs": [],
   "source": [
    "#51\n",
    "# Encapsulation is a pillar of OOP because it:\n",
    "\n",
    "# 1. **Protects Data**: Hides internal details to prevent misuse.\n",
    "# 2. **Promotes Modularity**: Organizes code into classes with clear interfaces.\n",
    "# 3. **Improves Maintenance**: Allows internal changes without affecting external code.\n",
    "# 4. **Supports Abstraction**: Provides a simple interface while hiding complex implementation details."
   ]
  },
  {
   "cell_type": "code",
   "execution_count": 41,
   "id": "bc31ff2d-7664-48a5-8b3b-1bc2fdabb64e",
   "metadata": {},
   "outputs": [
    {
     "name": "stdout",
     "output_type": "stream",
     "text": [
      "Before function execution\n",
      "Function is running\n",
      "After function execution\n"
     ]
    }
   ],
   "source": [
    "#52\n",
    "def my_decorator(func):\n",
    "    def wrapper(*args, **kwargs):\n",
    "        print(\"Before function execution\")\n",
    "        result = func(*args, **kwargs)\n",
    "        print(\"After function execution\")\n",
    "        return result\n",
    "    return wrapper\n",
    "\n",
    "@my_decorator\n",
    "def simple_function():\n",
    "    print(\"Function is running\")\n",
    "\n",
    "# Example usage:\n",
    "simple_function()\n"
   ]
  },
  {
   "cell_type": "code",
   "execution_count": 43,
   "id": "adbd17be-3298-45bd-8c8b-13f6f413bfc4",
   "metadata": {},
   "outputs": [
    {
     "name": "stdout",
     "output_type": "stream",
     "text": [
      "Notice - simple_function is about to run\n",
      "Function is running\n",
      "Notice - simple_function has finished running\n"
     ]
    }
   ],
   "source": [
    "#53\n",
    "def my_decorator(message):\n",
    "    def decorator(func):\n",
    "        def wrapper(*args, **kwargs):\n",
    "            print(f\"{message} - {func.__name__} is about to run\")\n",
    "            result = func(*args, **kwargs)\n",
    "            print(f\"{message} - {func.__name__} has finished running\")\n",
    "            return result\n",
    "        return wrapper\n",
    "    return decorator\n",
    "\n",
    "@my_decorator(\"Notice\")\n",
    "def simple_function():\n",
    "    print(\"Function is running\")\n",
    "\n",
    "# Example usage:\n",
    "simple_function()\n"
   ]
  },
  {
   "cell_type": "code",
   "execution_count": 45,
   "id": "8c52f870-d992-4c70-99ba-41e68c5bdafa",
   "metadata": {},
   "outputs": [
    {
     "name": "stdout",
     "output_type": "stream",
     "text": [
      "Decorator One: Before function\n",
      "Decorator Two: Before function\n",
      "Function is running\n",
      "Decorator Two: After function\n",
      "Decorator One: After function\n"
     ]
    }
   ],
   "source": [
    "#54\n",
    "def decorator_one(func):\n",
    "    def wrapper(*args, **kwargs):\n",
    "        print(\"Decorator One: Before function\")\n",
    "        result = func(*args, **kwargs)\n",
    "        print(\"Decorator One: After function\")\n",
    "        return result\n",
    "    return wrapper\n",
    "\n",
    "def decorator_two(func):\n",
    "    def wrapper(*args, **kwargs):\n",
    "        print(\"Decorator Two: Before function\")\n",
    "        result = func(*args, **kwargs)\n",
    "        print(\"Decorator Two: After function\")\n",
    "        return result\n",
    "    return wrapper\n",
    "\n",
    "@decorator_one\n",
    "@decorator_two\n",
    "def my_function():\n",
    "    print(\"Function is running\")\n",
    "\n",
    "# Example usage:\n",
    "my_function()\n"
   ]
  },
  {
   "cell_type": "code",
   "execution_count": 46,
   "id": "93b981fa-2bd8-4843-8c82-ae799e18f37f",
   "metadata": {},
   "outputs": [
    {
     "name": "stdout",
     "output_type": "stream",
     "text": [
      "Arguments were: (5, 3), {}\n",
      "8\n"
     ]
    }
   ],
   "source": [
    "#55\n",
    "def my_decorator(func):\n",
    "    def wrapper(*args, **kwargs):\n",
    "        print(f\"Arguments were: {args}, {kwargs}\")\n",
    "        result = func(*args, **kwargs)\n",
    "        return result\n",
    "    return wrapper\n",
    "\n",
    "@my_decorator\n",
    "def add(a, b):\n",
    "    return a + b\n",
    "\n",
    "# Example usage:\n",
    "print(add(5, 3))\n"
   ]
  },
  {
   "cell_type": "code",
   "execution_count": 47,
   "id": "97f3b75b-62d7-40ae-b491-ddf0795fd476",
   "metadata": {},
   "outputs": [
    {
     "name": "stdout",
     "output_type": "stream",
     "text": [
      "example_function\n",
      "This is an example function\n"
     ]
    }
   ],
   "source": [
    "#56\n",
    "from functools import wraps\n",
    "\n",
    "def preserve_metadata(func):\n",
    "    @wraps(func)\n",
    "    def wrapper(*args, **kwargs):\n",
    "        return func(*args, **kwargs)\n",
    "    return wrapper\n",
    "\n",
    "@preserve_metadata\n",
    "def example_function():\n",
    "    \"\"\"This is an example function\"\"\"\n",
    "    pass\n",
    "\n",
    "print(example_function.__name__)  # Outputs: example_function\n",
    "print(example_function.__doc__)   # Outputs: This is an example function\n"
   ]
  },
  {
   "cell_type": "code",
   "execution_count": 48,
   "id": "882e1afa-19d7-4330-9cb1-5ad3ca56c9f7",
   "metadata": {},
   "outputs": [
    {
     "name": "stdout",
     "output_type": "stream",
     "text": [
      "8\n"
     ]
    }
   ],
   "source": [
    "#57\n",
    "class Calculator:\n",
    "    @staticmethod\n",
    "    def odd(a, b):\n",
    "        return a + b\n",
    "\n",
    "# Example usage:\n",
    "result = Calculator.odd(5, 3)\n",
    "print(result)  # Outputs: 8\n"
   ]
  },
  {
   "cell_type": "code",
   "execution_count": 49,
   "id": "4cf373e8-4b0d-418e-9da5-020cd993de40",
   "metadata": {},
   "outputs": [
    {
     "name": "stdout",
     "output_type": "stream",
     "text": [
      "2\n"
     ]
    }
   ],
   "source": [
    "#58\n",
    "class Employee:\n",
    "    _count = 0\n",
    "\n",
    "    def __init__(self, name):\n",
    "        self.name = name\n",
    "        Employee._count += 1\n",
    "\n",
    "    @classmethod\n",
    "    def get_employee_count(cls):\n",
    "        return cls._count\n",
    "\n",
    "# Example usage:\n",
    "emp1 = Employee(\"Alice\")\n",
    "emp2 = Employee(\"Bob\")\n",
    "print(Employee.get_employee_count())  # Outputs: 2\n"
   ]
  },
  {
   "cell_type": "code",
   "execution_count": null,
   "id": "da3bcf1a-ac17-40d9-b039-b63cecb79cab",
   "metadata": {},
   "outputs": [],
   "source": [
    "#59"
   ]
  }
 ],
 "metadata": {
  "kernelspec": {
   "display_name": "Python 3 (ipykernel)",
   "language": "python",
   "name": "python3"
  },
  "language_info": {
   "codemirror_mode": {
    "name": "ipython",
    "version": 3
   },
   "file_extension": ".py",
   "mimetype": "text/x-python",
   "name": "python",
   "nbconvert_exporter": "python",
   "pygments_lexer": "ipython3",
   "version": "3.10.8"
  }
 },
 "nbformat": 4,
 "nbformat_minor": 5
}
